{
 "cells": [
  {
   "cell_type": "markdown",
   "metadata": {},
   "source": [
    "<center>\n",
    "  <img src=\"hackbio_internship_cover.jpeg\" alt=\"HackBio Logo\" style=\"width: 800px;\">\n",
    "</center>\n",
    "\n",
    "# **Project Title: Exploring Python Dictionaries at Stage 0**  \n",
    "### Learners of the team: *Chama Benslimane (leader)* and *Mohammad Hicham Polo*   \n",
    "**HackBio Internship - Stage 0 Task**\n",
    "\n",
    "---"
   ]
  },
  {
   "cell_type": "code",
   "execution_count": null,
   "metadata": {},
   "outputs": [],
   "source": []
  }
 ],
 "metadata": {
  "language_info": {
   "name": "python"
  }
 },
 "nbformat": 4,
 "nbformat_minor": 2
}
